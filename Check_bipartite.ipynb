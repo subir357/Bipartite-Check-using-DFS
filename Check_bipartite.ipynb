{
 "cells": [
  {
   "cell_type": "markdown",
   "metadata": {},
   "source": [
    "## Here assumtion is that the graph is connected and undirected"
   ]
  },
  {
   "cell_type": "code",
   "execution_count": 1,
   "metadata": {},
   "outputs": [],
   "source": [
    "#graph\n",
    "G={1:{5},\n",
    "   2:{5,6},\n",
    "   3:{5,7},\n",
    "   4:{7,8},\n",
    "   5:{1,3,2},\n",
    "   6:{3},\n",
    "   7:{3,4},\n",
    "   8:{4}\n",
    "  }"
   ]
  },
  {
   "cell_type": "code",
   "execution_count": 2,
   "metadata": {},
   "outputs": [],
   "source": [
    "visited={}\n",
    "time={}"
   ]
  },
  {
   "cell_type": "code",
   "execution_count": 3,
   "metadata": {},
   "outputs": [],
   "source": [
    "# marking all visited equals to zero\n",
    "for a in G.keys():\n",
    "    visited[a]=0"
   ]
  },
  {
   "cell_type": "code",
   "execution_count": 4,
   "metadata": {},
   "outputs": [],
   "source": [
    "# marking all time equals to zero\n",
    "for a in G.keys():\n",
    "    time[a]=0"
   ]
  },
  {
   "cell_type": "markdown",
   "metadata": {},
   "source": [
    "## Here for starting node we count 0 and when we visited a DFS tree(edge) we increse the count and take modulas 1.\n",
    "## Since for a biparteite graph there should not edge betwees a group of vertices so only tree edge occurs when we \n",
    "## visit different group"
   ]
  },
  {
   "cell_type": "code",
   "execution_count": 5,
   "metadata": {},
   "outputs": [],
   "source": [
    "def DFS(a,i):\n",
    "    visited[a]=1\n",
    "    for u in G[a]:\n",
    "        if visited[u]==0:\n",
    "            i=i+1 #when first visit we increse count 1\n",
    "            time[u]=i%2\n",
    "            DFS(u,i)\n",
    "            i=i+1 #when the node is finished(exploied) we increse count 1\n",
    "            "
   ]
  },
  {
   "cell_type": "markdown",
   "metadata": {},
   "source": [
    "## DFS "
   ]
  },
  {
   "cell_type": "code",
   "execution_count": 6,
   "metadata": {},
   "outputs": [],
   "source": [
    "DFS(1,0)"
   ]
  },
  {
   "cell_type": "markdown",
   "metadata": {},
   "source": [
    "## As the time divided the marked into 0 and 1 group we collect that data into set C and D"
   ]
  },
  {
   "cell_type": "code",
   "execution_count": 7,
   "metadata": {},
   "outputs": [],
   "source": [
    "A={}\n",
    "B={}\n",
    "i=0\n",
    "j=0\n",
    "for a in time.keys():\n",
    "    if time[a]==0:\n",
    "        A[a]=i\n",
    "        i+1\n",
    "    if time[a]==1:\n",
    "        B[a]=j\n",
    "        j+1\n",
    "C={*A}\n",
    "D={*B}  "
   ]
  },
  {
   "cell_type": "markdown",
   "metadata": {},
   "source": [
    "## Now we went c node in C abd check is there is any node which is not in D. If this happen then there is a \n",
    "## edge between C to C self. So for a baipartrite graph the set theoritic difference nust be zero."
   ]
  },
  {
   "cell_type": "code",
   "execution_count": 8,
   "metadata": {},
   "outputs": [],
   "source": [
    "l=0\n",
    "for a in C:\n",
    "    P={*G[a]}\n",
    "    L=P-D\n",
    "    k=len(L)\n",
    "    l=l+k\n",
    "\n",
    "for a in D:\n",
    "    P={*G[a]}\n",
    "    L=P-C\n",
    "    k=len(L)\n",
    "    l=l+k"
   ]
  },
  {
   "cell_type": "markdown",
   "metadata": {},
   "source": [
    "## Final concluasion"
   ]
  },
  {
   "cell_type": "code",
   "execution_count": 9,
   "metadata": {},
   "outputs": [
    {
     "name": "stdout",
     "output_type": "stream",
     "text": [
      "the graph is not baipartrite\n"
     ]
    }
   ],
   "source": [
    "if l==0:\n",
    "    print(\" the Graph is baipartritr\")\n",
    "    print(\"First set of vartices   \"+str(C))\n",
    "    print(\"Second set vartices  \"+str(D))\n",
    "if l>0:\n",
    "    print(\"the graph is not baipartrite\")"
   ]
  }
 ],
 "metadata": {
  "kernelspec": {
   "display_name": "Python 3",
   "language": "python",
   "name": "python3"
  },
  "language_info": {
   "codemirror_mode": {
    "name": "ipython",
    "version": 3
   },
   "file_extension": ".py",
   "mimetype": "text/x-python",
   "name": "python",
   "nbconvert_exporter": "python",
   "pygments_lexer": "ipython3",
   "version": "3.8.5"
  }
 },
 "nbformat": 4,
 "nbformat_minor": 4
}
